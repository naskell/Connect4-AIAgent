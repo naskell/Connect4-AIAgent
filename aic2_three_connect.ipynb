{
 "cells": [
  {
   "cell_type": "markdown",
   "metadata": {},
   "source": [
    "# Connect Three \n",
    "\n",
    "The primary description of this coursework is available on the CM20252 Moodle page. This is the Jupyter notebook you must complete and submit to receive marks. This notebook adds additional detail to the coursework specification but does not repeat the information that has already been provided there. \n",
    "\n",
    "You must follow all instructions given in this notebook precisely.\n",
    "\n",
    "Restart the kernel and run all cells before submitting the notebook. This will guarantee that we will be able to run your code for testing. Remember to save your work regularly.\n",
    "\n",
    "__You will develop players for Connect-Three on a grid that is 5 columns wide and 3 rows high. An example is shown below showing a win for Player Red.__\n",
    "\n",
    "<img src=\"images/connect3.png\" style=\"width: 200px;\"/>"
   ]
  },
  {
   "cell_type": "markdown",
   "metadata": {},
   "source": [
    "## Preliminaries\n",
    "\n",
    "For your reference, below is a visual depiction of the agent-environment interface in reinforcment learning. The interaction of the agent with its environments starts at decision stage $t=0$ with the observation of the current state $s_0$. (Notice that there is no reward at this initial stage.) The agent then chooses an action to execute at decision stage $t=1$. The environment responds by changing its state to $s_1$ and returning the numerical reward signal $r_1$. \n",
    "\n",
    "<img src=\"images/agent-environment.png\" style=\"width: 500px;\"/>\n",
    "\n",
    "<br><br><br>\n",
    "\n",
    "Below, we provide some code that will be useful for implementing parts of this interface. You are not obligated to use this code; please feel free to develop your own code from scratch. \n",
    "\n",
    "### Code details\n",
    "\n",
    "We provide a `Connect` class that you can use to simulate Connect-Three games. The following cells in this section will walk you through the basic usage of this class by playing a couple of games.\n",
    "\n",
    "We import the `connect` module and create a Connect-Three environmnet called `env`. The constructor method has one argument called `verbose`. If `verbose=True`, the `Connect` object will regularly print the progress of the game. This is useful for getting to know the provided code, debugging your code, or if you just want to play around. You will want to set `verbose=False` when you run hundreds of episodes to complete the marked exercises.\n",
    "\n",
    "This `Connect` environment uses the strings `'o'` and `'x'` instead of different disk colors in order to distuingish between the two players.\n",
    "\n",
    "Before we start a game, we should call the `reset()` method. This method cleans the board and resets other state variables. The `first_player` argument can be specified (`'o'` or `'x'`) to deterministically choose the starting player. It defaults to `\"random\"`, in which case each player starts the game with probability of $\\frac{1}{2}$."
   ]
  },
  {
   "cell_type": "code",
   "execution_count": 12,
   "metadata": {},
   "outputs": [
    {
     "name": "stdout",
     "output_type": "stream",
     "text": [
      "Game has been reset.\n",
      "[[' ' ' ' ' ' ' ' ' ']\n",
      " [' ' ' ' ' ' ' ' ' ']\n",
      " [' ' ' ' ' ' ' ' ' ']]\n"
     ]
    }
   ],
   "source": [
    "import connect\n",
    "import numpy as np\n",
    "env = connect.Connect(verbose=True)\n",
    "env.reset(first_player='o')"
   ]
  },
  {
   "cell_type": "markdown",
   "metadata": {},
   "source": [
    "We can interact with the environment using the `act()` method. This method takes an `action` as input and computes the response of the environment. An action is defined as the column index that a disk is dropped into."
   ]
  },
  {
   "cell_type": "code",
   "execution_count": 2,
   "metadata": {},
   "outputs": [
    {
     "name": "stdout",
     "output_type": "stream",
     "text": [
      "[[' ' ' ' ' ' ' ' ' ']\n",
      " [' ' ' ' ' ' ' ' ' ']\n",
      " [' ' ' ' 'o' ' ' ' ']]\n"
     ]
    }
   ],
   "source": [
    "env.act(action=2)"
   ]
  },
  {
   "cell_type": "markdown",
   "metadata": {},
   "source": [
    "The `act()` method inserts a disk into the specified column. \n",
    "\n",
    "If we want to change the player on move, we can do so by using the `change_turn()` method. We can check whose turn it is by accessing the `.player_at_turn` attribute."
   ]
  },
  {
   "cell_type": "code",
   "execution_count": 3,
   "metadata": {},
   "outputs": [
    {
     "name": "stdout",
     "output_type": "stream",
     "text": [
      "('Current player at turn:', 'o')\n",
      "('Current player at turn:', 'x')\n",
      "[[' ' ' ' ' ' ' ' ' ']\n",
      " [' ' ' ' 'x' ' ' ' ']\n",
      " [' ' ' ' 'o' ' ' ' ']]\n"
     ]
    }
   ],
   "source": [
    "print(\"Current player at turn:\", env.player_at_turn)\n",
    "env.change_turn()\n",
    "print(\"Current player at turn:\", env.player_at_turn)\n",
    "\n",
    "# Drop another disk into the same centre column.\n",
    "env.act(action=2)"
   ]
  },
  {
   "cell_type": "markdown",
   "metadata": {},
   "source": [
    "Because we set `verbose=True`, the grid is printed each time we call the `act()` method. This grid is stored as a two-dimensional numpy array in the connect class and you can easily access by calling..."
   ]
  },
  {
   "cell_type": "code",
   "execution_count": 4,
   "metadata": {},
   "outputs": [
    {
     "name": "stdout",
     "output_type": "stream",
     "text": [
      "[[' ' ' ' 'o' ' ' ' ']\n",
      " [' ' ' ' 'x' ' ' ' ']\n",
      " [' ' ' ' ' ' ' ' ' ']]\n"
     ]
    }
   ],
   "source": [
    "current_grid = env.grid\n",
    "print(current_grid)\n",
    "# Notice that the grid now appears to be \"upside down\" because numpy arrays are printed from \"top to bottom\"."
   ]
  },
  {
   "cell_type": "code",
   "execution_count": 5,
   "metadata": {},
   "outputs": [
    {
     "name": "stdout",
     "output_type": "stream",
     "text": [
      "[[' ' ' ' 'o' ' ' ' ']\n",
      " [' ' ' ' 'x' ' ' ' ']\n",
      " [' ' ' ' 'o' ' ' ' ']]\n"
     ]
    }
   ],
   "source": [
    "# Let's make another move.\n",
    "env.change_turn()\n",
    "env.act(action=2)"
   ]
  },
  {
   "cell_type": "markdown",
   "metadata": {},
   "source": [
    "If we make another move with `act(action=2)`, the environment will throw an error because that column is already filled."
   ]
  },
  {
   "cell_type": "code",
   "execution_count": 6,
   "metadata": {},
   "outputs": [
    {
     "ename": "IndexError",
     "evalue": "index 3 is out of bounds for axis 0 with size 3",
     "output_type": "error",
     "traceback": [
      "\u001b[1;31m---------------------------------------------------------------------------\u001b[0m",
      "\u001b[1;31mIndexError\u001b[0m                                Traceback (most recent call last)",
      "\u001b[1;32m<ipython-input-6-68a595408ac9>\u001b[0m in \u001b[0;36m<module>\u001b[1;34m()\u001b[0m\n\u001b[0;32m      1\u001b[0m \u001b[1;31m# This cell should throw an error!\u001b[0m\u001b[1;33m\u001b[0m\u001b[1;33m\u001b[0m\u001b[0m\n\u001b[0;32m      2\u001b[0m \u001b[0menv\u001b[0m\u001b[1;33m.\u001b[0m\u001b[0mchange_turn\u001b[0m\u001b[1;33m(\u001b[0m\u001b[1;33m)\u001b[0m\u001b[1;33m\u001b[0m\u001b[0m\n\u001b[1;32m----> 3\u001b[1;33m \u001b[0menv\u001b[0m\u001b[1;33m.\u001b[0m\u001b[0mact\u001b[0m\u001b[1;33m(\u001b[0m\u001b[0maction\u001b[0m\u001b[1;33m=\u001b[0m\u001b[1;36m2\u001b[0m\u001b[1;33m)\u001b[0m\u001b[1;33m\u001b[0m\u001b[0m\n\u001b[0m",
      "\u001b[1;32mH:\\CM20252\\aic2_three_connect\\connect.py\u001b[0m in \u001b[0;36mact\u001b[1;34m(self, action)\u001b[0m\n\u001b[0;32m     50\u001b[0m         \u001b[1;33m:\u001b[0m\u001b[0mparam\u001b[0m \u001b[0maction\u001b[0m\u001b[1;33m:\u001b[0m \u001b[0man\u001b[0m \u001b[0minteger\u001b[0m \u001b[0mreferring\u001b[0m \u001b[0mto\u001b[0m \u001b[0mthe\u001b[0m \u001b[0mcolumn\u001b[0m \u001b[0mindex\u001b[0m \u001b[0mwhere\u001b[0m \u001b[0ma\u001b[0m \u001b[0mnew\u001b[0m \u001b[0mtoken\u001b[0m\u001b[1;33m/\u001b[0m\u001b[0mdisk\u001b[0m \u001b[0mshould\u001b[0m \u001b[0mbe\u001b[0m \u001b[0mdropped\u001b[0m\u001b[1;33m\u001b[0m\u001b[0m\n\u001b[0;32m     51\u001b[0m         \"\"\"\n\u001b[1;32m---> 52\u001b[1;33m         \u001b[0mself\u001b[0m\u001b[1;33m.\u001b[0m\u001b[0mgrid\u001b[0m\u001b[1;33m[\u001b[0m\u001b[0mself\u001b[0m\u001b[1;33m.\u001b[0m\u001b[0mlowest_free_rows\u001b[0m\u001b[1;33m[\u001b[0m\u001b[0maction\u001b[0m\u001b[1;33m]\u001b[0m\u001b[1;33m,\u001b[0m \u001b[0maction\u001b[0m\u001b[1;33m]\u001b[0m \u001b[1;33m=\u001b[0m \u001b[0mself\u001b[0m\u001b[1;33m.\u001b[0m\u001b[0mplayer_at_turn\u001b[0m\u001b[1;33m\u001b[0m\u001b[0m\n\u001b[0m\u001b[0;32m     53\u001b[0m         \u001b[0mself\u001b[0m\u001b[1;33m.\u001b[0m\u001b[0mlowest_free_rows\u001b[0m\u001b[1;33m[\u001b[0m\u001b[0maction\u001b[0m\u001b[1;33m]\u001b[0m \u001b[1;33m+=\u001b[0m \u001b[1;36m1\u001b[0m\u001b[1;33m\u001b[0m\u001b[0m\n\u001b[0;32m     54\u001b[0m         \u001b[1;32mif\u001b[0m \u001b[0mself\u001b[0m\u001b[1;33m.\u001b[0m\u001b[0mlowest_free_rows\u001b[0m\u001b[1;33m[\u001b[0m\u001b[0maction\u001b[0m\u001b[1;33m]\u001b[0m \u001b[1;33m==\u001b[0m \u001b[0mself\u001b[0m\u001b[1;33m.\u001b[0m\u001b[0mnum_rows\u001b[0m\u001b[1;33m:\u001b[0m\u001b[1;33m\u001b[0m\u001b[0m\n",
      "\u001b[1;31mIndexError\u001b[0m: index 3 is out of bounds for axis 0 with size 3"
     ]
    }
   ],
   "source": [
    "# This cell should throw an error!\n",
    "env.change_turn()\n",
    "env.act(action=2)"
   ]
  },
  {
   "cell_type": "markdown",
   "metadata": {},
   "source": [
    "The attribute `.available_actions` contains a numpy array of all not yet filled columns."
   ]
  },
  {
   "cell_type": "code",
   "execution_count": 7,
   "metadata": {},
   "outputs": [
    {
     "name": "stdout",
     "output_type": "stream",
     "text": [
      "[0 1 3 4]\n"
     ]
    }
   ],
   "source": [
    "print(env.available_actions)\n",
    "# Column index '2' is missing because this column is already filled"
   ]
  },
  {
   "cell_type": "markdown",
   "metadata": {},
   "source": [
    "The `Connect` class contains a method called `was_winning_move()` that checks whether the last move won the game (returns `True`) or not (returns `False`). "
   ]
  },
  {
   "cell_type": "code",
   "execution_count": 8,
   "metadata": {},
   "outputs": [
    {
     "name": "stdout",
     "output_type": "stream",
     "text": [
      "('Winning move?', False)\n",
      "[[' ' ' ' 'o' ' ' ' ']\n",
      " [' ' ' ' 'x' ' ' ' ']\n",
      " [' ' ' ' 'o' 'x' ' ']]\n",
      "[[' ' ' ' 'o' ' ' ' ']\n",
      " [' ' ' ' 'x' ' ' ' ']\n",
      " [' ' 'o' 'o' 'x' ' ']]\n",
      "[[' ' ' ' 'o' ' ' ' ']\n",
      " [' ' ' ' 'x' 'x' ' ']\n",
      " [' ' 'o' 'o' 'x' ' ']]\n",
      "[[' ' ' ' 'o' ' ' ' ']\n",
      " [' ' ' ' 'x' 'x' ' ']\n",
      " ['o' 'o' 'o' 'x' ' ']]\n",
      "(\"Player '\", 'o', \"' has won the game!\")\n",
      "('Winning move?', True)\n"
     ]
    }
   ],
   "source": [
    "# Obviously the game has not yet been won by any player.\n",
    "print(\"Winning move?\", env.was_winning_move()) \n",
    "\n",
    "# Make some moves\n",
    "env.act(action=3)\n",
    "env.change_turn()\n",
    "env.act(action=1)\n",
    "env.change_turn()\n",
    "env.act(action=3)\n",
    "env.change_turn()\n",
    "env.act(action=0)\n",
    "\n",
    "# Check again whether a player has won the game.\n",
    "print(\"Winning move?\", env.was_winning_move()) "
   ]
  },
  {
   "cell_type": "markdown",
   "metadata": {},
   "source": [
    "Finally, the `Connect` class contains a method called `grid_is_full()` that checks whether the grid still contains empty slots. You can use this method to check whether the game is a draw.\n",
    "\n",
    "Feel free to modify existing or add new methods to the `Connect` class."
   ]
  },
  {
   "cell_type": "markdown",
   "metadata": {},
   "source": [
    "# Part 1: Q-learning\n",
    "\n",
    "Your opponent is always the first player. Your agent is always the second player.\n",
    "\n",
    "For your reference, the pseudo-code for Q-learning is reproduced below from the textbook (Reinforcement Learning, Sutton & Barto, 1998, Section 6.5).\n",
    "<img src=\"images/q_learning.png\" style=\"width: 600px;\"/>\n",
    "\n",
    "Prepare a **learning curve** following the directions below. We refer to this as Plot 1.\n",
    "\n",
    "After $n$ steps of interaction with the environment, play $m$ games with the current policy of the agent (without modifying the policy). Think of this as interrupting the agent for a period of time to test how well it has learned so far. Your plot should show the total score obtained in these $m$ games as a function of $n, 2n, 3n, … kn$. The choices of $n$ and $k$ are up to you. They should be reasonable values that demonstrate the efficiency of the learning and how well the agent learns to play the game eventually. Use $m=10$. \n",
    "\n",
    "This plot should show the mean performance of $a$ agents, not the performance of a single agent. Because of the stochasticity in the environment, you will obtain two different learning curves from two different agents even though they are using exactly the same algorithm. We suggest setting $a$ to 30 or higher.\n",
    "\n",
    "Present a single mean learning curve with your choice of parameters $\\epsilon$ and $\\alpha$. The plot should also show (as a baseline) the mean performance of a random agent that does not learn but chooses actions uniformly randomly from among the legal actions. Label this line “Random Agent”. \n",
    "\n",
    "Please include this plot as a static figure in the appropriate cell below. You can look at the source code of this markdown cell to find out how to embed figures using html or you can use drag & drop. If you link to locally stored images, make sure to include those in your submission."
   ]
  },
  {
   "cell_type": "code",
   "execution_count": 44,
   "metadata": {
    "deletable": false,
    "nbgrader": {
     "checksum": "1431aa87b9e9019a4dbe6e696e0a9082",
     "grade": true,
     "grade_id": "cell-3ac2114f764e8410",
     "locked": false,
     "points": 0,
     "schema_version": 1,
     "solution": true
    }
   },
   "outputs": [
    {
     "data": {
      "image/png": "[encoded data removed]",
      "text/plain": [
       "<matplotlib.figure.Figure at 0x27c76badf28>"
      ]
     },
     "metadata": {},
     "output_type": "display_data"
    }
   ],
   "source": [
    "import matplotlib.pyplot as plt\n",
    "import connect\n",
    "import numpy as np\n",
    "import random\n",
    "\n",
    "\n",
    "gamma = 1\n",
    "alpha = 0.2\n",
    "epsilon = 0.1\n",
    "\n",
    "agents = 30\n",
    "episodes = 45\n",
    "steps = 500\n",
    "games = 10\n",
    "\n",
    "Q = dict()\n",
    "\n",
    "env = connect.Connect(verbose=False)\n",
    "env.reset(first_player='o')\n",
    "\n",
    "numrows = len(env.grid)\n",
    "numcols = len(env.grid[0])\n",
    "  \n",
    "\n",
    "def q_val(state, action=None):\n",
    "    if state not in Q:\n",
    "        Q[state] = np.zeros(5)\n",
    "    \n",
    "    if action is None:\n",
    "        return Q[state]\n",
    "    \n",
    "    return Q[state][action]\n",
    "\n",
    "def choose_act(state):\n",
    "    empt = np.zeros(5)\n",
    "    if random.uniform(0, 1) < epsilon:\n",
    "        return random.choice(env.available_actions) \n",
    "    if np.array_equal(empt, q_val(state)):\n",
    "        return random.choice(env.available_actions)\n",
    "    else:\n",
    "        if np.argmax(q_val(state)) in env.available_actions:\n",
    "            return np.argmax(q_val(state))\n",
    "        else:\n",
    "            return random.choice(env.available_actions)\n",
    "\n",
    "def update_QT(state, next_state, action, reward):\n",
    "\n",
    "    if state in Q:                                             \n",
    "        q_val(state)[action] = q_val(state, action) + alpha * (reward + gamma * np.max(q_val(next_state)) - q_val(state, action))#gamma * max Q[next_state][action] - Q[state])\n",
    "    else:\n",
    "        Q[state] =  np.zeros(5)\n",
    "        q_val(state)[action] = q_val(state, action) + alpha * (reward + gamma * np.max(q_val(next_state)) - q_val(state, action))#gamma * max Q[next_state][action] - Q[state])\n",
    "    \n",
    "def next_state(state, action):\n",
    "    env.act(action)\n",
    "    next_st = state_board()\n",
    "    return next_st\n",
    "    \n",
    "def state_board():\n",
    "    state = \"\"\n",
    "    for x in range(numrows):\n",
    "        for y in range(numcols):\n",
    "            state = state + env.grid[x][y]\n",
    "    return state\n",
    "\n",
    "def next_action():\n",
    "    next_action = random.choice(env.available_actions)\n",
    "    return next_action\n",
    "\n",
    "def play_rand(games):\n",
    "\n",
    "    for n in range(games):\n",
    "        reward = 0\n",
    "        score = 0\n",
    "        env.reset(first_player='o')\n",
    "        s = state_board()\n",
    "        reward = 0\n",
    "        \n",
    "\n",
    "        if env.grid_is_full() == False:\n",
    "            action = next_action()\n",
    "            s = state_board()\n",
    "            next_s = next_state(s, action)\n",
    "            game_won = env.was_winning_move()\n",
    "            s = next_s\n",
    "  \n",
    "    \n",
    "        while (game_won == False) and (env.grid_is_full() == False):\n",
    "            action = random.choice(env.available_actions)\n",
    "            env.change_turn()\n",
    "            s = state_board()\n",
    "            if (env.player_at_turn == 'x'):\n",
    "                #print (\"player:\" + env.player_at_turn)\n",
    "                action = random.choice(env.available_actions)\n",
    "            else:\n",
    "                action = random.choice(env.available_actions)\n",
    "            next_s = next_state(s, action)\n",
    "            if (env.was_winning_move()) and (env.player_at_turn == 'x'):\n",
    "                reward = 1\n",
    "                score += reward\n",
    "            elif(env.was_winning_move()) and (env.player_at_turn == 'o'):\n",
    "                reward = -1\n",
    "                score += reward\n",
    "            else:\n",
    "                reward = 0\n",
    "            game_won = env.was_winning_move()\n",
    "            s = next_s\n",
    "\n",
    "    return score \n",
    "\n",
    "def play_steps():\n",
    "    i = 0\n",
    "    reward = 0\n",
    "    env.reset(first_player='o')\n",
    "    action = next_action()\n",
    "    s = state_board()\n",
    "    next_s = next_state(s, action)\n",
    "    q_val(s)[action] = q_val(s, action) + alpha * (reward + gamma *  np.max(q_val(next_s)) - q_val(s, action))\n",
    "    game_won = env.was_winning_move()\n",
    "    s = next_s\n",
    "    \n",
    "    while (i < steps) and (game_won == False) and (env.grid_is_full() == False):\n",
    "        reward = 0\n",
    "        s = state_board()\n",
    "        if env.grid_is_full() == False:\n",
    "            action = random.choice(env.available_actions)\n",
    "            env.change_turn()\n",
    "            s = state_board()\n",
    "            if (env.player_at_turn == 'x'):\n",
    "                #print (\"player:\" + env.player_at_turn)\n",
    "                action = choose_act(s)\n",
    "            else:\n",
    "                action = random.choice(env.available_actions)\n",
    "            next_s = next_state(s, action)\n",
    "            if (env.was_winning_move()) and (env.player_at_turn == 'x'):\n",
    "                reward = 1\n",
    "            elif(env.was_winning_move()) and (env.player_at_turn == 'o'):\n",
    "                reward = -1\n",
    "            else:\n",
    "                reward = 0\n",
    "            q_val(s)[action] = q_val(s, action) + alpha * (reward + gamma *  np.max(q_val(next_s)) - q_val(s, action))\n",
    "            game_won = env.was_winning_move()\n",
    "            s = next_s\n",
    "            if game_won:\n",
    "                env.reset(first_player = 'o')\n",
    "            i += 1\n",
    "\n",
    "def play_games():  \n",
    "    \n",
    "    \n",
    "    for n in range(games):\n",
    "        reward = 0\n",
    "        score = 0\n",
    "        env.reset(first_player='o')\n",
    "        s = state_board()\n",
    "\n",
    "        if env.grid_is_full() == False:\n",
    "            action = next_action()\n",
    "            s = state_board()\n",
    "            next_s = next_state(s, action)\n",
    "            q_val(s)[action] = q_val(s, action) + alpha * (reward + gamma *  np.max(q_val(next_s)) - q_val(s, action))\n",
    "            game_won = env.was_winning_move()\n",
    "            s = next_s\n",
    "  \n",
    "    \n",
    "        while (game_won == False) and (env.grid_is_full() == False):\n",
    "            action = random.choice(env.available_actions)\n",
    "            env.change_turn()\n",
    "            s = state_board()\n",
    "            if (env.player_at_turn == 'x'):\n",
    "                #print (\"player:\" + env.player_at_turn)\n",
    "                action = choose_act(s)\n",
    "            else:\n",
    "                action = random.choice(env.available_actions)\n",
    "            next_s = next_state(s, action)\n",
    "            if (env.was_winning_move()) and (env.player_at_turn == 'x'):\n",
    "                reward = 1\n",
    "                score += reward\n",
    "            elif(env.was_winning_move()) and (env.player_at_turn == 'o'):\n",
    "                reward = -1\n",
    "                score += reward\n",
    "            else:\n",
    "                reward = 0\n",
    "            q_val(s)[action] = q_val(s, action) + alpha * (reward + gamma *  np.max(q_val(next_s)) - q_val(s, action))\n",
    "            game_won = env.was_winning_move()\n",
    "            s = next_s\n",
    "    #print (Q)\n",
    "    return score         \n",
    "\n",
    "\n",
    "def mean_curve():\n",
    "    interactions = []\n",
    "    interactions_rand = []\n",
    "    scores = []\n",
    "    scores_rand = []\n",
    "    agents_scores = []\n",
    "    sa = 0\n",
    "    sr = 0\n",
    "\n",
    "    total_score = 0\n",
    "    for k in range (episodes):\n",
    "        play_steps()\n",
    "        \n",
    "        for a in range (agents):\n",
    "            total_score += play_games()\n",
    "        #print (k)\n",
    "        #print (total_score/agents)\n",
    "        agents_scores.append(total_score/agents)\n",
    "        interactions.append(k)\n",
    "\n",
    "    for k in range(episodes):\n",
    "        g = play_rand(games)\n",
    "        sr += g\n",
    "        scores_rand.append(sr)\n",
    "        interactions_rand.append(k)\n",
    "        #print (k)\n",
    "\n",
    "    x = interactions\n",
    "    y = agents_scores\n",
    "    z = np.polyfit(x, y, 3)\n",
    "    pol = np.poly1d(z)\n",
    "\n",
    "    xr = interactions_rand\n",
    "    yr = scores_rand\n",
    "    zr = np.polyfit(xr, yr, 3)\n",
    "    polr = np.poly1d(zr)\n",
    "\n",
    "    x_pol = np.linspace(x[0], x[-1], 50)\n",
    "    y_pol = pol(x_pol)\n",
    "\n",
    "    xr_pol = np.linspace(xr[0], xr[-1], 50)\n",
    "    yr_pol = polr(xr_pol)\n",
    "\n",
    "    plt.xlabel('interactions')\n",
    "    plt.ylabel('total score')\n",
    "    plt.plot(x_pol, y_pol, 'r', label = 'Learning Agent')\n",
    "    plt.plot(xr_pol, yr_pol, 'b', label = 'Random Agent' )\n",
    "    plt.legend()\n",
    "    plt.show()\n",
    "\n",
    "\n",
    "mean_curve()"
   ]
  },
  {
   "attachments": {
    "mean%20curve.png": {
     "image/png": "[encoded data removed]"
    }
   },
   "cell_type": "markdown",
   "metadata": {
    "deletable": false,
    "nbgrader": {
     "checksum": "34a84d16a71c19e759cb0afc7b41bbbc",
     "grade": true,
     "grade_id": "cell-ce1405b859519f91",
     "locked": false,
     "points": 30,
     "schema_version": 1,
     "solution": true
    }
   },
   "source": [
    "(A) [continued] Insert your static learning curve here (Plot 1).\n",
    "\n",
    "![mean%20curve.png](attachment:mean%20curve.png)\n",
    "\n",
    "(B) In 3 sentences or less, explain your conclusions from the plot above. How close does your (average) agent get to the best possible level of performance? How efficiently does your (average) agent learn? \n",
    "\n",
    "As shown from the plot, the agent starts off losing some games and has a total score below zero. However, as the agent learns in each interaction, the agent starts to win more games on average. The learning agent seems to win about 80% of games over all of the iterations compared to the random agent which loses most games. Therefore, the agent does learn quite efficiently and with more interactions and steps for learning it could potentially achieve win rates of up to 100%.\n",
    "\n",
    "(C) In five sentences or less, explain the key aspects of your implementation. How many state-action pairs do you represent in your Q-table? Describe and justify your settings of $\\alpha$ and $\\epsilon$. Are there any things you tried out that are not in your final implementation?\n",
    "\n",
    "The Q-table stores the state of the board as a string of 15 characters where each character is a players' letter or an empty space. Each state is a key and has a value pair which consists of a list of length 5, for each 5 possible actions, and a value is associated with each action, where if the value is higher, the action is more likely to lead to a win. I chose a value of 0.2 for alpha since it seemed to learn at a fast rate at this setting. Epsilon was set to 0.1 since this controls the number of random attempts that the agent makes, implemented by using a random number generator from 0 to 1 and if it returns a value below 0.1 then a random move is played.\n",
    "\n",
    "(D) In the cell below, make it possible for us to produce from scratch a learning curve similar to Plot 1 but for a single agent, for a $k$ value of your own choosing. You do not need to include the baseline for random play.  This code should run in less than 30 seconds (ours runs in 2 seconds). \n"
   ]
  },
  {
   "cell_type": "code",
   "execution_count": 43,
   "metadata": {
    "deletable": false,
    "nbgrader": {
     "checksum": "e65915a61d304027e4fbd2e714c4beba",
     "grade": true,
     "grade_id": "cell-e0e01e05236aee45",
     "locked": false,
     "points": 40,
     "schema_version": 1,
     "solution": true
    }
   },
   "outputs": [
    {
     "data": {
      "image/png": "[encoded data removed]",
      "text/plain": [
       "<matplotlib.figure.Figure at 0x27c76ba0d30>"
      ]
     },
     "metadata": {},
     "output_type": "display_data"
    },
    {
     "name": "stdout",
     "output_type": "stream",
     "text": [
      "1.4213833631978012 seconds\n"
     ]
    }
   ],
   "source": [
    "### This cell should produce from scratch a plot showing a learning curve for a single agent.\n",
    "### This cell should produce from scratch a plot showing a learning curve for a single agent.\n",
    "import timeit\n",
    "\n",
    "agents = 30\n",
    "episodes = 45\n",
    "steps = 500\n",
    "games = 10\n",
    "\n",
    "\n",
    "def single_curve():\n",
    "    start_time = timeit.default_timer()\n",
    "    \n",
    "    scores = []\n",
    "    interactions = []\n",
    "    sa = 0\n",
    "    for k in range (episodes):\n",
    "        play_steps()\n",
    "        g = play_games()\n",
    "        sa += g\n",
    "        scores.append(sa)\n",
    "        interactions.append(k)\n",
    "        #print (k)\n",
    "\n",
    "    x = interactions\n",
    "    y = scores\n",
    "    z = np.polyfit(x, y, 3)\n",
    "    pol = np.poly1d(z)\n",
    "\n",
    "    x_pol = np.linspace(x[0], x[-1], 50)\n",
    "    y_pol = pol(x_pol)\n",
    "\n",
    "    plt.xlabel('interactions')\n",
    "    plt.ylabel('total score')\n",
    "    plt.plot(x_pol, y_pol, 'r', label = 'Learning Agent')\n",
    "    plt.legend()\n",
    "    plt.show()\n",
    "    elapsed = timeit.default_timer() - start_time\n",
    "    print(elapsed, \"seconds\")\n",
    "    \n",
    "    \n",
    "single_curve()"
   ]
  },
  {
   "cell_type": "markdown",
   "metadata": {},
   "source": [
    "## Part 2A\n",
    " \n",
    "Using the minimax policy you computed, answer the following question: The first player (Player 1) drops his/her first disk into column 2 (counting from the left). Consider the resulting state, shown in the following code cell. "
   ]
  },
  {
   "cell_type": "code",
   "execution_count": 14,
   "metadata": {},
   "outputs": [
    {
     "name": "stdout",
     "output_type": "stream",
     "text": [
      "[[' ' ' ' ' ' ' ' ' ']\n",
      " [' ' ' ' ' ' ' ' ' ']\n",
      " [' ' 'o' ' ' ' ' ' ']]\n"
     ]
    }
   ],
   "source": [
    "env = connect.Connect(verbose=False)\n",
    "env.reset(first_player='o')\n",
    "env.act(action=1)\n",
    "print(env.grid[::-1])"
   ]
  },
  {
   "cell_type": "markdown",
   "metadata": {},
   "source": [
    "What is the Minimax Value of this state for Player 2? That is, assuming an optimal opponent, does the Minimax Policy expect to win the game (value = 1), lose the game (value = –1), or end the game in a draw (value = 0)? Please state your answer as a number.    \n",
    "\n",
    "* The code cell below should compute this value and assign it to a variable called `state_value`.\n",
    "* Count the number of branches of the game tree that were examined and assign this number to a variable called `num_branches`."
   ]
  },
  {
   "cell_type": "code",
   "execution_count": null,
   "metadata": {
    "collapsed": true,
    "deletable": false,
    "nbgrader": {
     "checksum": "7b00948d6cc98e71a2f9467263067bc0",
     "grade": false,
     "grade_id": "cell-9e3a2a1bebc09565",
     "locked": false,
     "schema_version": 1,
     "solution": true
    }
   },
   "outputs": [],
   "source": [
    "### Write all your code for Part 2A in or above this cell.\n",
    "\n",
    "# state_value = ...\n",
    "# num_branches = ...\n"
   ]
  },
  {
   "cell_type": "code",
   "execution_count": null,
   "metadata": {
    "collapsed": true,
    "deletable": false,
    "editable": false,
    "nbgrader": {
     "checksum": "0d9e96fd7c7ed9d9081eb564773f199c",
     "grade": true,
     "grade_id": "cell-c31d5222d21dd1d5",
     "locked": true,
     "points": 10,
     "schema_version": 1,
     "solution": false
    }
   },
   "outputs": [],
   "source": [
    "# This is an autograded test cell. Do not delete or change, otherwise you will get \n",
    "# no marks for this part of the assignment. Please make sure that this cell has \n",
    "# access to the variables state_value and num_branches."
   ]
  },
  {
   "cell_type": "markdown",
   "metadata": {},
   "source": [
    "## Part 2B\n",
    "Plot a learning curve similar to the one in Part 1, comparing your Q-learning algorithm, random play, and Minimax play. Assume as before that the opponent always plays first and uses a random policy."
   ]
  },
  {
   "cell_type": "code",
   "execution_count": null,
   "metadata": {
    "collapsed": true,
    "deletable": false,
    "nbgrader": {
     "checksum": "f6ed321958b16409ec1935b0fef7aa0d",
     "grade": true,
     "grade_id": "cell-a1d1652414bc7967",
     "locked": false,
     "points": 0,
     "schema_version": 1,
     "solution": true
    }
   },
   "outputs": [],
   "source": [
    "### Write all your code for Exercise 2 (B) in or above this cell.\n"
   ]
  },
  {
   "cell_type": "markdown",
   "metadata": {
    "deletable": false,
    "nbgrader": {
     "checksum": "614920eb9ba438cf5626dd59edc30252",
     "grade": true,
     "grade_id": "cell-1ea89dfffb81a041",
     "locked": false,
     "points": 10,
     "schema_version": 1,
     "solution": true
    }
   },
   "source": [
    "Explain your findings in 3 or fewer sentences. Which policy is better? Why?\n",
    "\n",
    "YOUR ANSWER HERE.\n",
    "\n"
   ]
  },
  {
   "cell_type": "markdown",
   "metadata": {},
   "source": [
    "## Part 3\n",
    "\n",
    "Using your algorithm, compute the value of the game for your player (recall: your player goes second against a random opponent). The code cell below should compute this value and assign it to a variable called `optimal_policy_value`."
   ]
  },
  {
   "cell_type": "code",
   "execution_count": null,
   "metadata": {
    "collapsed": true,
    "deletable": false,
    "nbgrader": {
     "checksum": "d7e4093f906a825959634f4ee6e6845f",
     "grade": false,
     "grade_id": "cell-a28f4f38b5cc6619",
     "locked": false,
     "schema_version": 1,
     "solution": true
    }
   },
   "outputs": [],
   "source": [
    "### Write all your code for Part 3 in or above this cell.\n",
    "\n",
    "# optimal_policy_value = ...\n"
   ]
  },
  {
   "cell_type": "code",
   "execution_count": null,
   "metadata": {
    "collapsed": true,
    "deletable": false,
    "editable": false,
    "nbgrader": {
     "checksum": "b3a945d86dc159320c257d69389cf765",
     "grade": true,
     "grade_id": "cell-1e0341a7a580c299",
     "locked": true,
     "points": 10,
     "schema_version": 1,
     "solution": false
    }
   },
   "outputs": [],
   "source": [
    "# This is an autograded test cell. Do not delete or change, otherwise you will get \n",
    "# no marks for this part of the assignment. Please make sure that this cell has \n",
    "# access to the variable optimal_policy_value."
   ]
  }
 ],
 "metadata": {
  "kernelspec": {
   "display_name": "Python 3",
   "language": "python",
   "name": "python3"
  },
  "language_info": {
   "codemirror_mode": {
    "name": "ipython",
    "version": 3
   },
   "file_extension": ".py",
   "mimetype": "text/x-python",
   "name": "python",
   "nbconvert_exporter": "python",
   "pygments_lexer": "ipython3",
   "version": "3.6.4"
  }
 },
 "nbformat": 4,
 "nbformat_minor": 2
}
